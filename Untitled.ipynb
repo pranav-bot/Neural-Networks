{
 "cells": [
  {
   "cell_type": "code",
   "execution_count": 1,
   "id": "e8a81f22",
   "metadata": {},
   "outputs": [],
   "source": [
    "import gym\n",
    "import numpy as np\n",
    "import time"
   ]
  },
  {
   "cell_type": "code",
   "execution_count": 2,
   "id": "9909db6c",
   "metadata": {},
   "outputs": [
    {
     "name": "stdout",
     "output_type": "stream",
     "text": [
      "\n",
      "\u001b[41mS\u001b[0mFFF\n",
      "FHFH\n",
      "FFFH\n",
      "HFFG\n"
     ]
    }
   ],
   "source": [
    "env = gym.make('FrozenLake-v1')\n",
    "states = env.observation_space.n\n",
    "actions = env.action_space.n\n",
    "env.render()"
   ]
  },
  {
   "cell_type": "code",
   "execution_count": 3,
   "id": "c51312e1",
   "metadata": {},
   "outputs": [
    {
     "data": {
      "text/plain": [
       "array([[0., 0., 0., 0.],\n",
       "       [0., 0., 0., 0.],\n",
       "       [0., 0., 0., 0.],\n",
       "       [0., 0., 0., 0.],\n",
       "       [0., 0., 0., 0.],\n",
       "       [0., 0., 0., 0.],\n",
       "       [0., 0., 0., 0.],\n",
       "       [0., 0., 0., 0.],\n",
       "       [0., 0., 0., 0.],\n",
       "       [0., 0., 0., 0.],\n",
       "       [0., 0., 0., 0.],\n",
       "       [0., 0., 0., 0.],\n",
       "       [0., 0., 0., 0.],\n",
       "       [0., 0., 0., 0.],\n",
       "       [0., 0., 0., 0.],\n",
       "       [0., 0., 0., 0.]])"
      ]
     },
     "execution_count": 3,
     "metadata": {},
     "output_type": "execute_result"
    }
   ],
   "source": [
    "Q = np.zeros((states, actions))\n",
    "Q"
   ]
  },
  {
   "cell_type": "code",
   "execution_count": 4,
   "id": "2fa11c71",
   "metadata": {},
   "outputs": [],
   "source": [
    "episodes = 15000\n",
    "max_steps = 100\n",
    "\n",
    "learning_rate = 0.81\n",
    "gamma = 0.96"
   ]
  },
  {
   "cell_type": "code",
   "execution_count": 5,
   "id": "39ddb8e1",
   "metadata": {},
   "outputs": [],
   "source": [
    "epsilon = 0.9"
   ]
  },
  {
   "cell_type": "code",
   "execution_count": 6,
   "id": "cdc557e9",
   "metadata": {},
   "outputs": [
    {
     "name": "stdout",
     "output_type": "stream",
     "text": [
      "[[3.10227959e-01 1.44017483e-02 1.48834498e-02 1.79321128e-02]\n",
      " [4.07293232e-03 4.60512440e-03 8.04143712e-04 3.45374486e-01]\n",
      " [4.32616604e-03 8.15175353e-03 3.84026890e-03 4.04236473e-01]\n",
      " [5.79530657e-03 3.60483846e-03 4.07254675e-03 1.08080685e-01]\n",
      " [3.83208821e-01 9.64263431e-03 6.40801977e-03 5.81800896e-03]\n",
      " [0.00000000e+00 0.00000000e+00 0.00000000e+00 0.00000000e+00]\n",
      " [3.01324813e-01 4.89510688e-06 5.05755284e-06 2.23228930e-06]\n",
      " [0.00000000e+00 0.00000000e+00 0.00000000e+00 0.00000000e+00]\n",
      " [8.47213173e-03 2.90783356e-03 7.34666222e-03 4.24149795e-01]\n",
      " [3.68902999e-03 6.17982511e-01 4.47646133e-03 4.49608928e-03]\n",
      " [8.51190339e-01 2.76329370e-04 7.28712907e-04 3.32157468e-04]\n",
      " [0.00000000e+00 0.00000000e+00 0.00000000e+00 0.00000000e+00]\n",
      " [0.00000000e+00 0.00000000e+00 0.00000000e+00 0.00000000e+00]\n",
      " [1.75848066e-02 5.38432132e-03 5.70265953e-01 1.30108778e-02]\n",
      " [5.61029221e-02 9.80335396e-01 5.97401025e-02 5.70724378e-02]\n",
      " [0.00000000e+00 0.00000000e+00 0.00000000e+00 0.00000000e+00]]\n"
     ]
    }
   ],
   "source": [
    "rewards = []\n",
    "for episode in range(episodes):\n",
    "    state = env.reset()\n",
    "    for i in range(max_steps):\n",
    "        #env.render()\n",
    "        if np.random.uniform(0,1)<epsilon:\n",
    "            action = env.action_space.sample()\n",
    "        else:\n",
    "            action = np.argmax(Q[state, :])\n",
    "        new_state, reward, done, i = env.step(action)\n",
    "        Q[state, action] = Q[state, action] + learning_rate*(reward+gamma *np.max(Q[new_state, :])-Q[state, action])\n",
    "        state = new_state\n",
    "        if done:\n",
    "            rewards.append(reward)\n",
    "            epsilon -= 0.001\n",
    "            break\n",
    "            \n",
    "print(Q)"
   ]
  },
  {
   "cell_type": "code",
   "execution_count": null,
   "id": "29b7a89c",
   "metadata": {},
   "outputs": [],
   "source": []
  },
  {
   "cell_type": "code",
   "execution_count": null,
   "id": "5d60cc3e",
   "metadata": {},
   "outputs": [],
   "source": []
  },
  {
   "cell_type": "code",
   "execution_count": null,
   "id": "90f31542",
   "metadata": {},
   "outputs": [],
   "source": []
  }
 ],
 "metadata": {
  "kernelspec": {
   "display_name": "Python 3 (ipykernel)",
   "language": "python",
   "name": "python3"
  },
  "language_info": {
   "codemirror_mode": {
    "name": "ipython",
    "version": 3
   },
   "file_extension": ".py",
   "mimetype": "text/x-python",
   "name": "python",
   "nbconvert_exporter": "python",
   "pygments_lexer": "ipython3",
   "version": "3.9.15"
  }
 },
 "nbformat": 4,
 "nbformat_minor": 5
}
